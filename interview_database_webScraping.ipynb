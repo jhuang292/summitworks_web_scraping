{
 "cells": [
  {
   "cell_type": "code",
   "execution_count": 1,
   "metadata": {},
   "outputs": [],
   "source": [
    "import pandas as pd\n",
    "import numpy as np\n",
    "import matplotlib.pyplot as plt\n",
    "import seaborn as sns\n",
    "%matplotlib inline"
   ]
  },
  {
   "cell_type": "code",
   "execution_count": 2,
   "metadata": {},
   "outputs": [],
   "source": [
    "from urllib.request import urlopen\n",
    "from bs4 import BeautifulSoup"
   ]
  },
  {
   "cell_type": "code",
   "execution_count": 3,
   "metadata": {},
   "outputs": [],
   "source": [
    "url = 'http://104.238.111.129:92/SWTInterview/Home/List'\n",
    "html = urlopen(url)"
   ]
  },
  {
   "cell_type": "code",
   "execution_count": 4,
   "metadata": {},
   "outputs": [
    {
     "data": {
      "text/plain": [
       "bs4.BeautifulSoup"
      ]
     },
     "execution_count": 4,
     "metadata": {},
     "output_type": "execute_result"
    }
   ],
   "source": [
    "soup = BeautifulSoup(html, 'lxml')\n",
    "type(soup)"
   ]
  },
  {
   "cell_type": "code",
   "execution_count": 5,
   "metadata": {},
   "outputs": [
    {
     "name": "stdout",
     "output_type": "stream",
     "text": [
      "<title>SWT Interview</title>\n"
     ]
    }
   ],
   "source": [
    "# Get the title\n",
    "title = soup.title\n",
    "print(title)"
   ]
  },
  {
   "cell_type": "code",
   "execution_count": 6,
   "metadata": {
    "scrolled": true
   },
   "outputs": [],
   "source": [
    "# Print out the text\n",
    "text = soup.get_text()\n",
    "#print(soup.text)"
   ]
  },
  {
   "cell_type": "code",
   "execution_count": 7,
   "metadata": {},
   "outputs": [
    {
     "data": {
      "text/plain": [
       "[<a class=\"logo\">\n",
       " <img src=\"/SWTInterview/img/SummitLogoFontVector.png\"/>\n",
       " </a>,\n",
       " <a href=\"/SWTInterview/\"><i class=\"fa fa-home\"></i> Home</a>,\n",
       " <a href=\"/SWTInterview/Home/List\"><i class=\"fa fa-th-list\"></i> Report</a>,\n",
       " <a class=\"btn btn-default pull-left\" href=\"#\" id=\"FilterRecord\">Filter</a>,\n",
       " <a class=\"btn btn-default pull-right\" href=\"#\" id=\"Export\">Export</a>,\n",
       " <a data-saferedirecturl=\"https://www.google.com/url?hl=en&amp;q=http://ASP.NET&amp;source=gmail&amp;ust=1478622774483000&amp;usg=AFQjCNFNc6oB7kF-gpusHOXkXuzOwQqtHg\" href=\"http://asp.net/\" style=\"color: rgb(17, 85, 204);\" target=\"_blank\">ASP.NET</a>,\n",
       " <a data-saferedirecturl=\"https://www.google.com/url?hl=en&amp;q=http://ASP.NET&amp;source=gmail&amp;ust=1478622774483000&amp;usg=AFQjCNFNc6oB7kF-gpusHOXkXuzOwQqtHg\" href=\"http://asp.net/\" style=\"color: rgb(17, 85, 204);\" target=\"_blank\">ASP.NET</a>,\n",
       " <a href=\"https://pmd.github.io/\"><span style=\"font-size: 10.5pt; font-family: Arial, sans-serif; color: rgb(147, 149, 152); background-image: initial; background-position: initial; background-size: initial; background-repeat: initial; background-attachment: initial; background-origin: initial; background-clip: initial;\"> is a static code analysis tool that iscapable to automatically detect a wide range of potential bugs and unsafe ornon-optimized code. </span><o:p></o:p></a>,\n",
       " <a href=\"http://findbugs.sourceforge.net/\"><span style=\"font-size: 10.5pt; font-family: Arial, sans-serif; color: rgb(147, 149, 152); background-image: initial; background-position: initial; background-size: initial; background-repeat: initial; background-attachment: initial; background-origin: initial; background-clip: initial;\"> is an open sourceJava code quality tool similar in some ways to Checkstyle and PMD, but with aquite different focus. FindBugs doesn’t concern the formatting or codingstandards but is only marginally interested in best practices.</span><o:p></o:p></a>,\n",
       " <a class=\"go-top\" href=\"#\"><i class=\"fa fa-angle-up\"></i></a>]"
      ]
     },
     "execution_count": 7,
     "metadata": {},
     "output_type": "execute_result"
    }
   ],
   "source": [
    "soup.find_all('a')"
   ]
  },
  {
   "cell_type": "code",
   "execution_count": 8,
   "metadata": {},
   "outputs": [
    {
     "name": "stdout",
     "output_type": "stream",
     "text": [
      "None\n",
      "/SWTInterview/\n",
      "/SWTInterview/Home/List\n",
      "#\n",
      "#\n",
      "http://asp.net/\n",
      "http://asp.net/\n",
      "https://pmd.github.io/\n",
      "http://findbugs.sourceforge.net/\n",
      "#\n"
     ]
    }
   ],
   "source": [
    "all_links = soup.find_all(\"a\")\n",
    "for link in all_links:\n",
    "    print(link.get(\"href\"))"
   ]
  },
  {
   "cell_type": "code",
   "execution_count": 9,
   "metadata": {},
   "outputs": [],
   "source": [
    "# Print the first 10 rows for sanity check\n",
    "rows = soup.find_all('tr')\n",
    "#print(rows[:10])"
   ]
  },
  {
   "cell_type": "code",
   "execution_count": 12,
   "metadata": {},
   "outputs": [],
   "source": [
    "import re\n",
    "\n",
    "list_rows = []\n",
    "for row in rows:\n",
    "    single_row = []\n",
    "    cells = row.find_all('td')\n",
    "    for cell in cells:\n",
    "        str_cell = str(cell)\n",
    "        clean = re.compile('<.*?>')\n",
    "        clean2 = (re.sub(clean, '',str_cell))\n",
    "        clean3 = re.sub(r'[^ \\w\\.]', '', clean2)\n",
    "        single_row.append(clean3.strip())\n",
    "    list_rows.append(single_row)\n",
    "    \n",
    "#list_rows"
   ]
  },
  {
   "cell_type": "code",
   "execution_count": 13,
   "metadata": {},
   "outputs": [
    {
     "data": {
      "text/plain": [
       "327"
      ]
     },
     "execution_count": 13,
     "metadata": {},
     "output_type": "execute_result"
    }
   ],
   "source": [
    "len(list_rows)"
   ]
  },
  {
   "cell_type": "code",
   "execution_count": 14,
   "metadata": {
    "scrolled": false
   },
   "outputs": [
    {
     "data": {
      "text/html": [
       "<div>\n",
       "<style scoped>\n",
       "    .dataframe tbody tr th:only-of-type {\n",
       "        vertical-align: middle;\n",
       "    }\n",
       "\n",
       "    .dataframe tbody tr th {\n",
       "        vertical-align: top;\n",
       "    }\n",
       "\n",
       "    .dataframe thead th {\n",
       "        text-align: right;\n",
       "    }\n",
       "</style>\n",
       "<table border=\"1\" class=\"dataframe\">\n",
       "  <thead>\n",
       "    <tr style=\"text-align: right;\">\n",
       "      <th></th>\n",
       "      <th>Candidate Name</th>\n",
       "      <th>Email</th>\n",
       "      <th>Phone</th>\n",
       "      <th>Company Name</th>\n",
       "      <th>Interview Date</th>\n",
       "      <th>Area</th>\n",
       "      <th>Description</th>\n",
       "    </tr>\n",
       "  </thead>\n",
       "  <tbody>\n",
       "    <tr>\n",
       "      <th>0</th>\n",
       "      <td>Anand Dubey</td>\n",
       "      <td>anand.dubeysummitworks.com</td>\n",
       "      <td></td>\n",
       "      <td>ABC Consulting</td>\n",
       "      <td>12222015</td>\n",
       "      <td>.NET</td>\n",
       "      <td>The Interview as good. I confidently answered ...</td>\n",
       "    </tr>\n",
       "    <tr>\n",
       "      <th>1</th>\n",
       "      <td>Serguey Hernandez</td>\n",
       "      <td></td>\n",
       "      <td></td>\n",
       "      <td>Collabra</td>\n",
       "      <td>12242015</td>\n",
       "      <td>.NET</td>\n",
       "      <td>How to convert to int in JavaScriptparseInt</td>\n",
       "    </tr>\n",
       "    <tr>\n",
       "      <th>2</th>\n",
       "      <td>shiyu chen</td>\n",
       "      <td>csyu91gmail.com</td>\n",
       "      <td></td>\n",
       "      <td>RICG</td>\n",
       "      <td>12292015</td>\n",
       "      <td>.NET</td>\n",
       "      <td>AngularJSWhat Directives have you used.what is...</td>\n",
       "    </tr>\n",
       "    <tr>\n",
       "      <th>3</th>\n",
       "      <td>shiyu chen</td>\n",
       "      <td>csyu91gmail.com</td>\n",
       "      <td></td>\n",
       "      <td>RICG</td>\n",
       "      <td>12292015</td>\n",
       "      <td>.NET</td>\n",
       "      <td>AngularJSWhat Directives have you used.what is...</td>\n",
       "    </tr>\n",
       "    <tr>\n",
       "      <th>4</th>\n",
       "      <td>Ishan Godbole</td>\n",
       "      <td>ishangodbolegmail.com</td>\n",
       "      <td>4074528520</td>\n",
       "      <td>Florida State Government</td>\n",
       "      <td>12302015</td>\n",
       "      <td>.NET</td>\n",
       "      <td>What is a hashtableWhat is the difference betw...</td>\n",
       "    </tr>\n",
       "  </tbody>\n",
       "</table>\n",
       "</div>"
      ],
      "text/plain": [
       "      Candidate Name                       Email       Phone  \\\n",
       "0        Anand Dubey  anand.dubeysummitworks.com               \n",
       "1  Serguey Hernandez                                           \n",
       "2         shiyu chen             csyu91gmail.com               \n",
       "3         shiyu chen             csyu91gmail.com               \n",
       "4      Ishan Godbole       ishangodbolegmail.com  4074528520   \n",
       "\n",
       "               Company Name Interview Date  Area  \\\n",
       "0            ABC Consulting       12222015  .NET   \n",
       "1                  Collabra       12242015  .NET   \n",
       "2                      RICG       12292015  .NET   \n",
       "3                      RICG       12292015  .NET   \n",
       "4  Florida State Government       12302015  .NET   \n",
       "\n",
       "                                         Description  \n",
       "0  The Interview as good. I confidently answered ...  \n",
       "1        How to convert to int in JavaScriptparseInt  \n",
       "2  AngularJSWhat Directives have you used.what is...  \n",
       "3  AngularJSWhat Directives have you used.what is...  \n",
       "4  What is a hashtableWhat is the difference betw...  "
      ]
     },
     "execution_count": 14,
     "metadata": {},
     "output_type": "execute_result"
    }
   ],
   "source": [
    "# Save data into dictionary\n",
    "in_map = {}\n",
    "Candidate_Name, Email, Phone, Company_Name, Interview_Date, Area, Description = [], [], [], [], [], [], []\n",
    "for item in list_rows[1:]:\n",
    "    Candidate_Name.append(item[0])\n",
    "    Email.append(item[1])\n",
    "    Phone.append(item[2])\n",
    "    Company_Name.append(item[3])\n",
    "    Interview_Date.append(item[4])\n",
    "    Area.append(item[5])\n",
    "    Description.append(item[6])\n",
    "in_map['Candidate Name'] = Candidate_Name\n",
    "in_map['Email'] = Email\n",
    "in_map['Phone'] = Phone\n",
    "in_map['Company Name'] = Company_Name\n",
    "in_map['Interview Date'] = Interview_Date\n",
    "in_map['Area'] = Area\n",
    "in_map['Description'] = Description\n",
    "df = pd.DataFrame.from_dict(in_map)\n",
    "df.head()"
   ]
  },
  {
   "cell_type": "code",
   "execution_count": 15,
   "metadata": {},
   "outputs": [],
   "source": [
    "df.to_csv('metadata.csv', index=False)"
   ]
  },
  {
   "cell_type": "code",
   "execution_count": 16,
   "metadata": {},
   "outputs": [
    {
     "data": {
      "text/html": [
       "<div>\n",
       "<style scoped>\n",
       "    .dataframe tbody tr th:only-of-type {\n",
       "        vertical-align: middle;\n",
       "    }\n",
       "\n",
       "    .dataframe tbody tr th {\n",
       "        vertical-align: top;\n",
       "    }\n",
       "\n",
       "    .dataframe thead th {\n",
       "        text-align: right;\n",
       "    }\n",
       "</style>\n",
       "<table border=\"1\" class=\"dataframe\">\n",
       "  <thead>\n",
       "    <tr style=\"text-align: right;\">\n",
       "      <th></th>\n",
       "      <th>Area</th>\n",
       "      <th>Description</th>\n",
       "    </tr>\n",
       "  </thead>\n",
       "  <tbody>\n",
       "    <tr>\n",
       "      <th>0</th>\n",
       "      <td>.NET</td>\n",
       "      <td>The Interview as good. I confidently answered ...</td>\n",
       "    </tr>\n",
       "    <tr>\n",
       "      <th>1</th>\n",
       "      <td>.NET</td>\n",
       "      <td>How to convert to int in JavaScriptparseInt</td>\n",
       "    </tr>\n",
       "    <tr>\n",
       "      <th>2</th>\n",
       "      <td>.NET</td>\n",
       "      <td>AngularJSWhat Directives have you used.what is...</td>\n",
       "    </tr>\n",
       "    <tr>\n",
       "      <th>3</th>\n",
       "      <td>.NET</td>\n",
       "      <td>AngularJSWhat Directives have you used.what is...</td>\n",
       "    </tr>\n",
       "    <tr>\n",
       "      <th>4</th>\n",
       "      <td>.NET</td>\n",
       "      <td>What is a hashtableWhat is the difference betw...</td>\n",
       "    </tr>\n",
       "  </tbody>\n",
       "</table>\n",
       "</div>"
      ],
      "text/plain": [
       "   Area                                        Description\n",
       "0  .NET  The Interview as good. I confidently answered ...\n",
       "1  .NET        How to convert to int in JavaScriptparseInt\n",
       "2  .NET  AngularJSWhat Directives have you used.what is...\n",
       "3  .NET  AngularJSWhat Directives have you used.what is...\n",
       "4  .NET  What is a hashtableWhat is the difference betw..."
      ]
     },
     "execution_count": 16,
     "metadata": {},
     "output_type": "execute_result"
    }
   ],
   "source": [
    "df = df[['Area', 'Description']]\n",
    "df.head()"
   ]
  },
  {
   "cell_type": "code",
   "execution_count": 17,
   "metadata": {},
   "outputs": [
    {
     "data": {
      "text/plain": [
       "array(['.NET', 'JAVA', 'PYTHON'], dtype=object)"
      ]
     },
     "execution_count": 17,
     "metadata": {},
     "output_type": "execute_result"
    }
   ],
   "source": [
    "df['Area'].unique()"
   ]
  },
  {
   "cell_type": "code",
   "execution_count": 18,
   "metadata": {
    "scrolled": true
   },
   "outputs": [],
   "source": [
    "net = df.query('Area == \".NET\"')\n",
    "java = df.query('Area == \"JAVA\"')\n",
    "python = df.query('Area == \"PYTHON\"')"
   ]
  },
  {
   "cell_type": "code",
   "execution_count": 19,
   "metadata": {},
   "outputs": [],
   "source": [
    "from collections import Counter\n",
    "net_q = str(net['Description'].values).split()\n",
    "Counter = Counter(net_q)\n",
    "most_occur = Counter.most_common()\n",
    "#most_occur"
   ]
  },
  {
   "cell_type": "markdown",
   "metadata": {},
   "source": [
    "Angular-70,  function-39, MVC-36, SQL-30, Web-30, Project-30, table-29, class-25, query-25, application-24, design-21, API-19, database - 16, http-14, entity-14, framework-13, client-12, html-11, page-11, ASP.NET-11, AJAX-9, WCF-9, REST-8, front-8, transaction-7, POST-7, Routing-7, connection-6, GET-6, LINQ-5"
   ]
  },
  {
   "cell_type": "code",
   "execution_count": 25,
   "metadata": {},
   "outputs": [],
   "source": [
    "from collections import Counter\n",
    "java_q = str(net['Description'].values).split()\n",
    "Counter = Counter(java_q)\n",
    "most_occur = Counter.most_common()\n",
    "#most_occur"
   ]
  },
  {
   "cell_type": "markdown",
   "metadata": {},
   "source": [
    "SQL-45,MVC-36, Angular-35,  project-30, type-30, class-25, query-25, code-19, API-19, method-19, service-17, database-16, binding-14, http-14, entity-14, user-13"
   ]
  },
  {
   "cell_type": "code",
   "execution_count": 26,
   "metadata": {},
   "outputs": [],
   "source": [
    "from collections import Counter\n",
    "python_q = str(python['Description'].values).split()\n",
    "Counter = Counter(python_q)\n",
    "most_occur = Counter.most_common()\n",
    "#most_occur"
   ]
  },
  {
   "cell_type": "markdown",
   "metadata": {},
   "source": [
    "python-21, code-20, API-9, REST-9, lambda-9, server-8, performance-8, SQL-4, Linux-3"
   ]
  },
  {
   "cell_type": "code",
   "execution_count": 47,
   "metadata": {},
   "outputs": [],
   "source": [
    "net_key_words = ['Angular', 'function', 'MVC', 'SQL', 'Web', 'Project', 'table', 'class', 'query', 'application', 'design', 'API', 'api', 'database', 'http', 'entity', 'framework', 'client', 'html', 'page', 'ASP.NET', 'AJAX', 'WCF', 'REST', 'front', 'transaction', 'POST', 'Routing', 'connection', 'GET', 'LINQ']"
   ]
  },
  {
   "cell_type": "code",
   "execution_count": 48,
   "metadata": {},
   "outputs": [],
   "source": [
    "def common_data(string, l): \n",
    "    for item in l:\n",
    "        if item in string:\n",
    "            return True\n",
    "                  \n",
    "    return False "
   ]
  },
  {
   "cell_type": "code",
   "execution_count": 49,
   "metadata": {},
   "outputs": [],
   "source": [
    "net_q_db = []\n",
    "for i in range(len(net['Description'].values)):\n",
    "    questions = net['Description'].values[i].split('.')\n",
    "    for q in questions:\n",
    "        #print(q)\n",
    "        if common_data(q, net_key_words):\n",
    "            net_q_db.append(q)\n",
    "#net_q_db"
   ]
  },
  {
   "cell_type": "code",
   "execution_count": 57,
   "metadata": {},
   "outputs": [],
   "source": [
    "df_net = pd.DataFrame(net_q_db)\n",
    "df_net.to_csv('net_questions.csv', index=False)"
   ]
  },
  {
   "cell_type": "code",
   "execution_count": 50,
   "metadata": {},
   "outputs": [],
   "source": [
    "java_key_words = ['SQL','sql','MVC', 'Angular', 'project', 'type', 'class', 'query', 'code', 'api', 'API', 'method', 'service', 'database', 'binding', 'http', 'entity', 'user']"
   ]
  },
  {
   "cell_type": "code",
   "execution_count": 52,
   "metadata": {},
   "outputs": [],
   "source": [
    "java_q_db = []\n",
    "for i in range(len(java['Description'].values)):\n",
    "    questions = java['Description'].values[i].split('.')\n",
    "    for q in questions:\n",
    "        #print(q)\n",
    "        if common_data(q, java_key_words):\n",
    "            java_q_db.append(q)\n",
    "#java_q_db"
   ]
  },
  {
   "cell_type": "code",
   "execution_count": 58,
   "metadata": {},
   "outputs": [],
   "source": [
    "df_java = pd.DataFrame(java_q_db)\n",
    "df_java.to_csv('java_questions.csv', index=False)"
   ]
  },
  {
   "cell_type": "code",
   "execution_count": 53,
   "metadata": {},
   "outputs": [],
   "source": [
    "python_key_words = ['python', 'code', 'API', 'api', 'REST', 'lambda', 'server', 'performance', 'sql', 'SQL', 'linux', 'Linux']"
   ]
  },
  {
   "cell_type": "code",
   "execution_count": 55,
   "metadata": {},
   "outputs": [],
   "source": [
    "python_q_db = []\n",
    "for i in range(len(python['Description'].values)):\n",
    "    questions = python['Description'].values[i].split('.')\n",
    "    for q in questions:\n",
    "        #print(q)\n",
    "        if common_data(q, python_key_words):\n",
    "            python_q_db.append(q)\n",
    "#python_q_db"
   ]
  },
  {
   "cell_type": "code",
   "execution_count": 59,
   "metadata": {},
   "outputs": [],
   "source": [
    "df_python = pd.DataFrame(python_q_db)\n",
    "df_python.to_csv('python_questions.csv', index=False)"
   ]
  },
  {
   "cell_type": "code",
   "execution_count": null,
   "metadata": {},
   "outputs": [],
   "source": []
  }
 ],
 "metadata": {
  "kernelspec": {
   "display_name": "Python 3",
   "language": "python",
   "name": "python3"
  },
  "language_info": {
   "codemirror_mode": {
    "name": "ipython",
    "version": 3
   },
   "file_extension": ".py",
   "mimetype": "text/x-python",
   "name": "python",
   "nbconvert_exporter": "python",
   "pygments_lexer": "ipython3",
   "version": "3.6.8"
  }
 },
 "nbformat": 4,
 "nbformat_minor": 2
}
